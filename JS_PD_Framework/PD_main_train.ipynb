{
 "cells": [
  {
   "cell_type": "markdown",
   "metadata": {},
   "source": [
    "# Import "
   ]
  },
  {
   "cell_type": "code",
   "execution_count": 1,
   "metadata": {},
   "outputs": [],
   "source": [
    "from PDModel import PDModel\n",
    "import warnings\n",
    "warnings.filterwarnings('ignore')\n",
    "class Foo:\n",
    "    pass\n"
   ]
  },
  {
   "cell_type": "markdown",
   "metadata": {},
   "source": [
    "# platform"
   ]
  },
  {
   "cell_type": "code",
   "execution_count": 2,
   "metadata": {},
   "outputs": [],
   "source": [
    "myInput = Foo()\n",
    "modelFile =\"platform\" # Use train/model0 file"
   ]
  },
  {
   "cell_type": "markdown",
   "metadata": {},
   "source": [
    "# CRF"
   ]
  },
  {
   "cell_type": "code",
   "execution_count": 3,
   "metadata": {},
   "outputs": [
    {
     "name": "stdout",
     "output_type": "stream",
     "text": [
      "machineLearningEngine:  LR\n",
      "output_horizon:  4\n",
      "Index(['TS/T Over TA Period 5', 'TA Over TL Period 5', 'E Over TA Period 5',\n",
      "       'WC Over TA Period 5', 'RE Over TA Period 5'],\n",
      "      dtype='object')\n",
      "Samples of default companies for machine learning core:  91\n",
      "Samples of active companies for machine learning core:  5365\n"
     ]
    },
    {
     "data": {
      "text/plain": [
       "<Figure size 640x480 with 1 Axes>"
      ]
     },
     "metadata": {},
     "output_type": "display_data"
    },
    {
     "data": {
      "text/plain": [
       "<Figure size 640x480 with 1 Axes>"
      ]
     },
     "metadata": {},
     "output_type": "display_data"
    },
    {
     "data": {
      "text/plain": [
       "<Figure size 640x480 with 1 Axes>"
      ]
     },
     "metadata": {},
     "output_type": "display_data"
    },
    {
     "name": "stdout",
     "output_type": "stream",
     "text": [
      "AUC-Train:  0.87\n",
      "AUC-Test:  0.84\n",
      "Training Completed!\n",
      "--------------------------------End--------------------------------\n"
     ]
    },
    {
     "data": {
      "text/plain": [
       "(<MachineLearningBasedModels.Engines.logisticRegression at 0x11e1124e0>,\n",
       " <PDModel.PDDataClass at 0x11bf13080>)"
      ]
     },
     "execution_count": 3,
     "metadata": {},
     "output_type": "execute_result"
    }
   ],
   "source": [
    "myInput.machineLearningEngine = 'LR' # Calibrated Random Forest\n",
    "myInput.output_horizon = 4 # Predict PD 3 years later\n",
    "model = PDModel(myInput, model_file=modelFile)\n",
    "model.train(save=False)"
   ]
  },
  {
   "cell_type": "code",
   "execution_count": null,
   "metadata": {},
   "outputs": [],
   "source": []
  },
  {
   "cell_type": "code",
   "execution_count": null,
   "metadata": {},
   "outputs": [],
   "source": []
  }
 ],
 "metadata": {
  "kernelspec": {
   "display_name": "Python 3",
   "language": "python",
   "name": "python3"
  },
  "language_info": {
   "codemirror_mode": {
    "name": "ipython",
    "version": 3
   },
   "file_extension": ".py",
   "mimetype": "text/x-python",
   "name": "python",
   "nbconvert_exporter": "python",
   "pygments_lexer": "ipython3",
   "version": "3.7.1"
  }
 },
 "nbformat": 4,
 "nbformat_minor": 2
}
