{
 "cells": [
  {
   "cell_type": "code",
   "execution_count": 1,
   "metadata": {},
   "outputs": [],
   "source": [
    "import os\n",
    "import sys\n",
    "sys.path.append(os.path.dirname(os.path.realpath(sys.path[0])))\n",
    "import pandas as pd\n",
    "import RR_dataClass"
   ]
  },
  {
   "cell_type": "markdown",
   "metadata": {},
   "source": [
    "# Sample 1\n",
    "## Read Data"
   ]
  },
  {
   "cell_type": "code",
   "execution_count": 2,
   "metadata": {},
   "outputs": [],
   "source": [
    "data = pd.read_excel(sys.path[0]+\"/TrainingData/Bankrupt_AllSizes_1.xlsx\")"
   ]
  },
  {
   "cell_type": "code",
   "execution_count": 3,
   "metadata": {},
   "outputs": [
    {
     "name": "stdout",
     "output_type": "stream",
     "text": [
      "                     Company Name Registered Number     Legal Status  \\\n",
      "3      G.& M.ALFREDS(1936)LIMITED          00316216  Private Limited   \n",
      "4  KEYTOL (WALTHAM ABBEY) LIMITED          00425278  Private Limited   \n",
      "5       CEDARTECH BROMLEY LIMITED          00372032  Private Limited   \n",
      "\n",
      "  Trading Status Corporate Status UK SIC Code  \\\n",
      "3         Active  Ultimate Parent         451   \n",
      "4         Active  Ultimate Parent        4639   \n",
      "5         Active  Ultimate Parent        4777   \n",
      "\n",
      "                                         UK SIC Desc Latest Accounts Date  \\\n",
      "3                             Sale of motor vehicles  1996-09-30 01:00:00   \n",
      "4  Non-specialised wholesale of food, beverages a...  2004-12-31 00:00:00   \n",
      "5  Retail sale of watches and jewellery in specia...  1998-12-31 00:00:00   \n",
      "\n",
      "   Borrowings (current) (Period 1)  Borrowings (current) (Period 2)  ...  \\\n",
      "3                              NaN                              NaN  ...   \n",
      "4                              NaN                           1426.0  ...   \n",
      "5                              NaN                              NaN  ...   \n",
      "\n",
      "   Cash At Bank (Period 1)  Cash At Bank (Period 2)  Cash At Bank (Period 3)  \\\n",
      "3                      NaN                      NaN                      NaN   \n",
      "4                2480568.0                1346598.0                 816012.0   \n",
      "5                      NaN                      NaN                      NaN   \n",
      "\n",
      "   Cash At Bank (Period 4)  Cash At Bank (Period 5)  \\\n",
      "3                      NaN                      NaN   \n",
      "4                 517879.0                 547576.0   \n",
      "5                      NaN                      NaN   \n",
      "\n",
      "   Property, Plant & Equipment (Period 1)  \\\n",
      "3                                     NaN   \n",
      "4                                     0.0   \n",
      "5                                     NaN   \n",
      "\n",
      "   Property, Plant & Equipment (Period 2)  \\\n",
      "3                                     NaN   \n",
      "4                                 92450.0   \n",
      "5                                     NaN   \n",
      "\n",
      "   Property, Plant & Equipment (Period 3)  \\\n",
      "3                                     NaN   \n",
      "4                                134954.0   \n",
      "5                                     NaN   \n",
      "\n",
      "   Property, Plant & Equipment (Period 4)  \\\n",
      "3                                     NaN   \n",
      "4                                203081.0   \n",
      "5                                     NaN   \n",
      "\n",
      "   Property, Plant & Equipment (Period 5)  \n",
      "3                                     NaN  \n",
      "4                                347253.0  \n",
      "5                                     NaN  \n",
      "\n",
      "[3 rows x 78 columns]\n"
     ]
    }
   ],
   "source": [
    "print(data[3:6])"
   ]
  },
  {
   "cell_type": "markdown",
   "metadata": {},
   "source": [
    "## Initialization"
   ]
  },
  {
   "cell_type": "code",
   "execution_count": 4,
   "metadata": {},
   "outputs": [],
   "source": [
    "data1 = RR_dataClass.DataClass(input_historical=3, output_horizon=2, trainData=data)  "
   ]
  },
  {
   "cell_type": "markdown",
   "metadata": {},
   "source": [
    "## additionClean"
   ]
  },
  {
   "cell_type": "code",
   "execution_count": 5,
   "metadata": {
    "scrolled": true
   },
   "outputs": [
    {
     "name": "stdout",
     "output_type": "stream",
     "text": [
      " Total Assets (Period 3):1000.0\n",
      " not = \n",
      " Total Current Assets (Period 3):2864655.0\n",
      " + \n",
      " Total Non Current Assets (Period 3):559910.0\n",
      "----------------------------------------------------------------------\n",
      "----------------------------------------------------------------------\n",
      " After the function \n",
      " Total Assets (Period 3):3424565.0\n",
      " = \n",
      " Total Current Assets (Period 3):2864655.0\n",
      " + \n",
      " Total Non Current Assets (Period 3):559910.0\n"
     ]
    },
    {
     "name": "stderr",
     "output_type": "stream",
     "text": [
      "/Users/jiazhen/Documents/quant_decompose/venv/lib/python3.7/site-packages/ipykernel_launcher.py:1: SettingWithCopyWarning: \n",
      "A value is trying to be set on a copy of a slice from a DataFrame\n",
      "\n",
      "See the caveats in the documentation: http://pandas.pydata.org/pandas-docs/stable/user_guide/indexing.html#returning-a-view-versus-a-copy\n",
      "  \"\"\"Entry point for launching an IPython kernel.\n",
      "/Users/jiazhen/Documents/quant_decompose/FinancialProxyCleanData/dataClass.py:219: RuntimeWarning: invalid value encountered in greater\n",
      "  myLeft=myLeft.where(myLeft.values > rightSum, rightSum).fillna(myLeft)  # Take tha max of two methods\n"
     ]
    }
   ],
   "source": [
    "data1.data[\"Total Assets (Period 3)\"][4] = 1000\n",
    "print(f' Total Assets (Period 3):{data1.data[\"Total Assets (Period 3)\"][4]}\\n \\\n",
    "not = \\n \\\n",
    "Total Current Assets (Period 3):{data1.data[\"Total Current Assets (Period 3)\"][4]}\\n \\\n",
    "+ \\n \\\n",
    "Total Non Current Assets (Period 3):{data1.data[\"Total Non Current Assets (Period 3)\"][4]}')\n",
    "print('----------------------------------------------------------------------')\n",
    "      \n",
    "data1.additionClean(\"Total Assets\",\"Total Current Assets\",\"Total Non Current Assets\")\n",
    "      \n",
    "print('----------------------------------------------------------------------')\n",
    "print(f' After the function \\n \\\n",
    "Total Assets (Period 3):{data1.data[\"Total Assets (Period 3)\"][4]}\\n \\\n",
    "= \\n \\\n",
    "Total Current Assets (Period 3):{data1.data[\"Total Current Assets (Period 3)\"][4]}\\n \\\n",
    "+ \\n \\\n",
    "Total Non Current Assets (Period 3):{data1.data[\"Total Non Current Assets (Period 3)\"][4]}')"
   ]
  },
  {
   "cell_type": "markdown",
   "metadata": {},
   "source": [
    "## genProxy"
   ]
  },
  {
   "cell_type": "code",
   "execution_count": 6,
   "metadata": {},
   "outputs": [
    {
     "name": "stdout",
     "output_type": "stream",
     "text": [
      "   Total Assets (Period 1)  Total Assets (Period 2)  Total Assets (Period 3)  \\\n",
      "0                      NaN                      NaN                      NaN   \n",
      "1                      NaN                      NaN                      NaN   \n",
      "2                      NaN                      NaN                      NaN   \n",
      "3                      NaN                      NaN                      NaN   \n",
      "4                      inf                      inf                      inf   \n",
      "5                      NaN                      NaN                      NaN   \n",
      "\n",
      "   Total Assets (Period 4)  Total Assets (Period 5)  \n",
      "0                      NaN                      NaN  \n",
      "1                      NaN                      NaN  \n",
      "2                      NaN                      NaN  \n",
      "3                      NaN                      NaN  \n",
      "4               728.172016                52.300089  \n",
      "5                      NaN                      NaN  \n"
     ]
    },
    {
     "name": "stderr",
     "output_type": "stream",
     "text": [
      "/Users/jiazhen/Documents/quant_decompose/FinancialProxyCleanData/dataClass.py:235: RuntimeWarning: invalid value encountered in greater\n",
      "  TA = TAa.where(TAa.values > TAb.values, TAb).fillna(TAa) #Take tha max of two methods\n"
     ]
    }
   ],
   "source": [
    "data1.genProxy(isTTA=True)\n",
    "print(data1.proxy[:6])"
   ]
  },
  {
   "cell_type": "markdown",
   "metadata": {},
   "source": [
    "## deriveCol"
   ]
  },
  {
   "cell_type": "code",
   "execution_count": 7,
   "metadata": {},
   "outputs": [
    {
     "name": "stdout",
     "output_type": "stream",
     "text": [
      "   Total Liabilities (Period 1)  Total Liabilities (Period 2)  \\\n",
      "3                           NaN                           NaN   \n",
      "4                       56942.0                      358011.0   \n",
      "5                           NaN                           NaN   \n",
      "\n",
      "   Total Liabilities (Period 3)  Total Liabilities (Period 4)  \\\n",
      "3                           NaN                           NaN   \n",
      "4                      676784.0                      920910.0   \n",
      "5                           NaN                           NaN   \n",
      "\n",
      "   Total Liabilities (Period 5)  \n",
      "3                           NaN  \n",
      "4                      992724.0  \n",
      "5                           NaN  \n"
     ]
    }
   ],
   "source": [
    "data1.deriveCol('Total Liabilities',\"Total Current Liabilities\",'+',\"Total Non Current Liabilities (Incl Provisions)\")\n",
    "data1.deriveCol('Total Tangible Assets',\"Total Assets\",\"-\",\"Intangible Assets\" )\n",
    "data1.deriveCol('Net Assets',\"Total Assets\", \"-\", \"Total Current Liabilities\", \"-\",\"Total Non Current Liabilities (Incl Provisions)\" )\n",
    "print(data1._getCols('Total Liabilities')[3:6])"
   ]
  },
  {
   "cell_type": "markdown",
   "metadata": {},
   "source": [
    "## selectDefault"
   ]
  },
  {
   "cell_type": "code",
   "execution_count": 8,
   "metadata": {},
   "outputs": [],
   "source": [
    "data1.selectDefault()"
   ]
  },
  {
   "cell_type": "markdown",
   "metadata": {},
   "source": [
    "## chooseRatio"
   ]
  },
  {
   "cell_type": "code",
   "execution_count": 9,
   "metadata": {},
   "outputs": [
    {
     "name": "stdout",
     "output_type": "stream",
     "text": [
      "    TA Over TL Period 3  TA Over TL Period 4  TA Over TL Period 5  \\\n",
      "19              0.49808             0.642039             0.926313   \n",
      "27              0.44335             0.488379             0.559787   \n",
      "\n",
      "    logTA Period 3  logTA Period 4  logTA Period 5  \n",
      "19       12.245663       12.773121       13.132654  \n",
      "27       14.094845       14.124851       14.191294  \n"
     ]
    }
   ],
   "source": [
    "data1.genRatio('Total Assets', 'Total Liabilities')\n",
    "data1.genRatio('Total Assets', useLog=True)\n",
    "print(data1.valuableRatios[:2])"
   ]
  },
  {
   "cell_type": "code",
   "execution_count": 10,
   "metadata": {},
   "outputs": [
    {
     "name": "stdout",
     "output_type": "stream",
     "text": [
      "19    0.268932\n",
      "27    0.310665\n",
      "Name: target, dtype: float64\n"
     ]
    }
   ],
   "source": [
    "print(data1.target[:2])"
   ]
  },
  {
   "cell_type": "markdown",
   "metadata": {},
   "source": [
    "Hence, we can use the **data1.valuableRatios** and **data1.target** as x and y inputs to train the machine learning model."
   ]
  },
  {
   "cell_type": "markdown",
   "metadata": {},
   "source": [
    "---"
   ]
  },
  {
   "cell_type": "markdown",
   "metadata": {},
   "source": [
    "## Production Mode"
   ]
  },
  {
   "cell_type": "markdown",
   "metadata": {},
   "source": [
    "To keep the consistency of the actions in developing mode and producting mode, there are two ways:\n",
    "- Give the prediction data while we are prepare training data, i.e. give **trainData** and **preData** when initilization.\n",
    "- Save the model and give **preData** later, but it requires special files to record the actions."
   ]
  },
  {
   "cell_type": "markdown",
   "metadata": {},
   "source": [
    "### Case 1: combined way"
   ]
  },
  {
   "cell_type": "code",
   "execution_count": 11,
   "metadata": {},
   "outputs": [
    {
     "name": "stderr",
     "output_type": "stream",
     "text": [
      "/Users/jiazhen/Documents/quant_decompose/FinancialProxyCleanData/dataClass.py:224: RuntimeWarning: invalid value encountered in greater\n",
      "  PmyLeft = PmyLeft.where((PmyLeft.values > PrightSum), PrightSum).fillna(PmyLeft)  # Take tha max of two methods\n"
     ]
    }
   ],
   "source": [
    "data = pd.read_excel(sys.path[0]+\"/TrainingData/Bankrupt_AllSizes_1.xlsx\")\n",
    "pdata = pd.read_excel(sys.path[0]+\"/TrainingData/Company list Data.xlsx\")\n",
    "data2 = RR_dataClass.DataClass(input_historical=3, output_horizon=2, trainData=data, preData=pdata)\n",
    "data2.additionClean(\"Total Assets\",\"Total Current Assets\",\"Total Non Current Assets\")\n",
    "data2.genProxy(isTTA=True)\n",
    "data2.deriveCol('Total Liabilities',\"Total Current Liabilities\",'+',\"Total Non Current Liabilities (Incl Provisions)\")\n",
    "data2.deriveCol('Total Tangible Assets',\"Total Assets\",\"-\",\"Intangible Assets\" )\n",
    "data2.selectDefault()\n",
    "data2.genRatio('Total Assets', 'Total Liabilities')\n",
    "data2.genRatio('Total Assets', useLog=True)"
   ]
  },
  {
   "cell_type": "code",
   "execution_count": 12,
   "metadata": {},
   "outputs": [
    {
     "name": "stdout",
     "output_type": "stream",
     "text": [
      "    TA Over TL Period 3  TA Over TL Period 4  TA Over TL Period 5  \\\n",
      "19              0.49808             0.642039             0.926313   \n",
      "27              0.44335             0.488379             0.559787   \n",
      "\n",
      "    logTA Period 3  logTA Period 4  logTA Period 5  \n",
      "19       12.245663       12.773121       13.132654  \n",
      "27       14.094845       14.124851       14.191294  \n"
     ]
    }
   ],
   "source": [
    "print(data2.valuableRatios[:2])"
   ]
  },
  {
   "cell_type": "code",
   "execution_count": 13,
   "metadata": {},
   "outputs": [
    {
     "name": "stdout",
     "output_type": "stream",
     "text": [
      "   TA Over TL Period 3  TA Over TL Period 4  TA Over TL Period 5  \\\n",
      "0             3.267011             3.676149             1.995795   \n",
      "1            22.011582            11.802238            12.029311   \n",
      "\n",
      "   logTA Period 3  logTA Period 4  logTA Period 5  \n",
      "0       13.726406       13.804254       13.627534  \n",
      "1       15.447160       15.302504       15.136116  \n"
     ]
    }
   ],
   "source": [
    "print(data2.PvaluableRatios[:2])"
   ]
  },
  {
   "cell_type": "markdown",
   "metadata": {},
   "source": [
    "Hence, after training the model, we can input **data2.PvaluableRatios** to the trained model for prediction."
   ]
  },
  {
   "cell_type": "markdown",
   "metadata": {},
   "source": [
    "### Case 2: seperate way"
   ]
  },
  {
   "cell_type": "code",
   "execution_count": 14,
   "metadata": {},
   "outputs": [],
   "source": [
    "pdata = pd.read_excel(sys.path[0]+\"/TrainingData/Company list Data.xlsx\")\n",
    "data3 = RR_dataClass.DataClass(input_historical=3, output_horizon=1,  preData=pdata)"
   ]
  },
  {
   "cell_type": "markdown",
   "metadata": {},
   "source": [
    "The following functions for cleaning data, derive new columns and select columns should be wrote in a seperate file when we train the model. Hence, we can call the functions exactly the same when we want to prepare data after training models."
   ]
  },
  {
   "cell_type": "code",
   "execution_count": 15,
   "metadata": {},
   "outputs": [],
   "source": [
    "data3.additionClean(\"Total Assets\",\"Total Current Assets\",\"Total Non Current Assets\")\n",
    "# ........."
   ]
  },
  {
   "cell_type": "code",
   "execution_count": 16,
   "metadata": {},
   "outputs": [],
   "source": [
    "data3.deriveCol('Total Liabilities',\"Total Current Liabilities\",'+',\"Total Non Current Liabilities (Incl Provisions)\")\n",
    "data3.deriveCol('Total Tangible Assets',\"Total Assets\",\"-\",\"Intangible Assets\" )\n",
    "# ........."
   ]
  },
  {
   "cell_type": "code",
   "execution_count": 18,
   "metadata": {},
   "outputs": [],
   "source": [
    "data3.genRatio('Total Assets', 'Total Liabilities', historical_length=[1,2])\n",
    "data3.genRatio('Total Assets', useLog=True, historical_length=3)\n",
    "# ........."
   ]
  },
  {
   "cell_type": "code",
   "execution_count": 19,
   "metadata": {},
   "outputs": [
    {
     "name": "stdout",
     "output_type": "stream",
     "text": [
      "   TA Over TL Period 2  TA Over TL Period 3  logTA Period 4\n",
      "0             3.267011             3.676149       13.627534\n",
      "1            22.011582            11.802238       15.136116\n",
      "2             4.847199             2.832382       14.236381\n",
      "3             1.042375             1.066911       14.046365\n",
      "4             1.360771             2.090984       16.670541\n"
     ]
    }
   ],
   "source": [
    "print(data3.PvaluableRatios[:5])"
   ]
  },
  {
   "cell_type": "markdown",
   "metadata": {},
   "source": [
    "In case two, we cannot do significant test and keep the columns with small p-value automatically. Hence, the weakness of current version is feature selection of developing mode and prodcution mode cannot be decomposed."
   ]
  },
  {
   "cell_type": "markdown",
   "metadata": {},
   "source": [
    "---"
   ]
  }
 ],
 "metadata": {
  "kernelspec": {
   "display_name": "Python 3",
   "language": "python",
   "name": "python3"
  },
  "language_info": {
   "codemirror_mode": {
    "name": "ipython",
    "version": 3
   },
   "file_extension": ".py",
   "mimetype": "text/x-python",
   "name": "python",
   "nbconvert_exporter": "python",
   "pygments_lexer": "ipython3",
   "version": "3.7.1"
  }
 },
 "nbformat": 4,
 "nbformat_minor": 2
}
