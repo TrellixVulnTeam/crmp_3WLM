{
 "cells": [
  {
   "cell_type": "code",
   "execution_count": 1,
   "metadata": {},
   "outputs": [
    {
     "name": "stdout",
     "output_type": "stream",
     "text": [
      "['/Users/jiazhen/Documents/quant_decompose/FinancialProxyCleanData', '/Library/Frameworks/Python.framework/Versions/3.7/lib/python37.zip', '/Library/Frameworks/Python.framework/Versions/3.7/lib/python3.7', '/Library/Frameworks/Python.framework/Versions/3.7/lib/python3.7/lib-dynload', '', '/Users/jiazhen/Documents/crmplantform/data-quant-platform/venv/lib/python3.7/site-packages', '/Users/jiazhen/Documents/crmplantform/data-quant-platform/venv/lib/python3.7/site-packages/setuptools-39.1.0-py3.7.egg', '/Users/jiazhen/Documents/crmplantform/data-quant-platform/venv/lib/python3.7/site-packages/IPython/extensions', '/Users/jiazhen/.ipython']\n"
     ]
    }
   ],
   "source": [
    "import pandas as pd\n",
    "import sys\n",
    "print(sys.path)\n",
    "import RR_dataClass"
   ]
  },
  {
   "cell_type": "markdown",
   "metadata": {},
   "source": [
    "# Sample 1\n",
    "## Read Data"
   ]
  },
  {
   "cell_type": "code",
   "execution_count": 2,
   "metadata": {},
   "outputs": [],
   "source": [
    "data = pd.read_excel(sys.path[0]+\"/TrainingData/Bankrupt_AllSizes_1.xlsx\")"
   ]
  },
  {
   "cell_type": "code",
   "execution_count": 3,
   "metadata": {},
   "outputs": [
    {
     "name": "stdout",
     "output_type": "stream",
     "text": [
      "                     Company Name Registered Number     Legal Status  \\\n",
      "3      G.& M.ALFREDS(1936)LIMITED          00316216  Private Limited   \n",
      "4  KEYTOL (WALTHAM ABBEY) LIMITED          00425278  Private Limited   \n",
      "5       CEDARTECH BROMLEY LIMITED          00372032  Private Limited   \n",
      "\n",
      "  Trading Status Corporate Status UK SIC Code  \\\n",
      "3      Dissolved  Ultimate Parent         451   \n",
      "4      Dissolved  Ultimate Parent        4639   \n",
      "5      Dissolved  Ultimate Parent        4777   \n",
      "\n",
      "                                         UK SIC Desc Latest Accounts Date  \\\n",
      "3                             Sale of motor vehicles  1996-09-30 01:00:00   \n",
      "4  Non-specialised wholesale of food, beverages a...  2004-12-31 00:00:00   \n",
      "5  Retail sale of watches and jewellery in specia...  1998-12-31 00:00:00   \n",
      "\n",
      "   Borrowings (current) (Period 1)  Borrowings (current) (Period 2)  ...  \\\n",
      "3                              NaN                              NaN  ...   \n",
      "4                              NaN                           1426.0  ...   \n",
      "5                              NaN                              NaN  ...   \n",
      "\n",
      "   Cash At Bank (Period 1)  Cash At Bank (Period 2)  Cash At Bank (Period 3)  \\\n",
      "3                      NaN                      NaN                      NaN   \n",
      "4                2480568.0                1346598.0                 816012.0   \n",
      "5                      NaN                      NaN                      NaN   \n",
      "\n",
      "   Cash At Bank (Period 4)  Cash At Bank (Period 5)  \\\n",
      "3                      NaN                      NaN   \n",
      "4                 517879.0                 547576.0   \n",
      "5                      NaN                      NaN   \n",
      "\n",
      "   Property, Plant & Equipment (Period 1)  \\\n",
      "3                                     NaN   \n",
      "4                                     0.0   \n",
      "5                                     NaN   \n",
      "\n",
      "   Property, Plant & Equipment (Period 2)  \\\n",
      "3                                     NaN   \n",
      "4                                 92450.0   \n",
      "5                                     NaN   \n",
      "\n",
      "   Property, Plant & Equipment (Period 3)  \\\n",
      "3                                     NaN   \n",
      "4                                134954.0   \n",
      "5                                     NaN   \n",
      "\n",
      "   Property, Plant & Equipment (Period 4)  \\\n",
      "3                                     NaN   \n",
      "4                                203081.0   \n",
      "5                                     NaN   \n",
      "\n",
      "   Property, Plant & Equipment (Period 5)  \n",
      "3                                     NaN  \n",
      "4                                347253.0  \n",
      "5                                     NaN  \n",
      "\n",
      "[3 rows x 78 columns]\n"
     ]
    }
   ],
   "source": [
    "print(data[3:6])"
   ]
  },
  {
   "cell_type": "markdown",
   "metadata": {},
   "source": [
    "## Initialization"
   ]
  },
  {
   "cell_type": "code",
   "execution_count": 4,
   "metadata": {},
   "outputs": [],
   "source": [
    "data1 = RR_dataClass.DataClass(yearsAsInputs=3, yearsAcross=2, trainData=data)  "
   ]
  },
  {
   "cell_type": "markdown",
   "metadata": {},
   "source": [
    "## additionClean"
   ]
  },
  {
   "cell_type": "code",
   "execution_count": 5,
   "metadata": {
    "scrolled": true
   },
   "outputs": [
    {
     "name": "stdout",
     "output_type": "stream",
     "text": [
      " Total Assets (Period 3):1000.0\n",
      " not = \n",
      " Total Current Assets (Period 3):2864655.0\n",
      " + \n",
      " Total Non Current Assets (Period 3):559910.0\n",
      "----------------------------------------------------------------------\n",
      "----------------------------------------------------------------------\n",
      " After the function \n",
      " Total Assets (Period 3):3424565.0\n",
      " = \n",
      " Total Current Assets (Period 3):2864655.0\n",
      " + \n",
      " Total Non Current Assets (Period 3):559910.0\n"
     ]
    },
    {
     "name": "stderr",
     "output_type": "stream",
     "text": [
      "/Users/jiazhen/Documents/crmplantform/data-quant-platform/venv/lib/python3.7/site-packages/ipykernel_launcher.py:1: SettingWithCopyWarning: \n",
      "A value is trying to be set on a copy of a slice from a DataFrame\n",
      "\n",
      "See the caveats in the documentation: http://pandas.pydata.org/pandas-docs/stable/indexing.html#indexing-view-versus-copy\n",
      "  \"\"\"Entry point for launching an IPython kernel.\n",
      "/Users/jiazhen/Documents/quant_decompose/FinancialProxyCleanData/dataClass.py:201: RuntimeWarning: invalid value encountered in greater\n",
      "  myLeft=myLeft.where(myLeft.values > rightSum, rightSum).fillna(myLeft)  # Take tha max of two methods\n"
     ]
    }
   ],
   "source": [
    "data1.data[\"Total Assets (Period 3)\"][4] = 1000\n",
    "print(f' Total Assets (Period 3):{data1.data[\"Total Assets (Period 3)\"][4]}\\n \\\n",
    "not = \\n \\\n",
    "Total Current Assets (Period 3):{data1.data[\"Total Current Assets (Period 3)\"][4]}\\n \\\n",
    "+ \\n \\\n",
    "Total Non Current Assets (Period 3):{data1.data[\"Total Non Current Assets (Period 3)\"][4]}')\n",
    "print('----------------------------------------------------------------------')\n",
    "      \n",
    "data1.additionClean(\"Total Assets\",\"Total Current Assets\",\"Total Non Current Assets\")\n",
    "      \n",
    "print('----------------------------------------------------------------------')\n",
    "print(f' After the function \\n \\\n",
    "Total Assets (Period 3):{data1.data[\"Total Assets (Period 3)\"][4]}\\n \\\n",
    "= \\n \\\n",
    "Total Current Assets (Period 3):{data1.data[\"Total Current Assets (Period 3)\"][4]}\\n \\\n",
    "+ \\n \\\n",
    "Total Non Current Assets (Period 3):{data1.data[\"Total Non Current Assets (Period 3)\"][4]}')"
   ]
  },
  {
   "cell_type": "markdown",
   "metadata": {},
   "source": [
    "## genProxy"
   ]
  },
  {
   "cell_type": "code",
   "execution_count": 6,
   "metadata": {},
   "outputs": [
    {
     "name": "stdout",
     "output_type": "stream",
     "text": [
      "   Total Assets (Period 1)  Total Assets (Period 2)  Total Assets (Period 3)  \\\n",
      "0                      NaN                      NaN                      NaN   \n",
      "1                      NaN                      NaN                      NaN   \n",
      "2                      NaN                      NaN                      NaN   \n",
      "3                      NaN                      NaN                      NaN   \n",
      "4                54.652682                 8.884632                 5.060056   \n",
      "5                      NaN                      NaN                      NaN   \n",
      "\n",
      "   Total Assets (Period 4)  Total Assets (Period 5)  \n",
      "0                      NaN                      NaN  \n",
      "1                      NaN                      NaN  \n",
      "2                      NaN                      NaN  \n",
      "3                      NaN                      NaN  \n",
      "4                 3.842847                 3.308413  \n",
      "5                      NaN                      NaN  \n"
     ]
    },
    {
     "name": "stderr",
     "output_type": "stream",
     "text": [
      "/Users/jiazhen/Documents/quant_decompose/FinancialProxyCleanData/dataClass.py:217: RuntimeWarning: invalid value encountered in greater\n",
      "  TA = TAa.where(TAa.values > TAb.values, TAb).fillna(TAa) #Take tha max of two methods\n"
     ]
    }
   ],
   "source": [
    "data1.genProxy(isTTA=True)\n",
    "print(data1.proxy[:6])"
   ]
  },
  {
   "cell_type": "markdown",
   "metadata": {},
   "source": [
    "## deriveCol"
   ]
  },
  {
   "cell_type": "code",
   "execution_count": 7,
   "metadata": {},
   "outputs": [
    {
     "name": "stdout",
     "output_type": "stream",
     "text": [
      "   Total Liabilities (Period 1)  Total Liabilities (Period 2)  \\\n",
      "3                           NaN                           NaN   \n",
      "4                       56942.0                      358011.0   \n",
      "5                           NaN                           NaN   \n",
      "\n",
      "   Total Liabilities (Period 3)  Total Liabilities (Period 4)  \\\n",
      "3                           NaN                           NaN   \n",
      "4                      676784.0                      920910.0   \n",
      "5                           NaN                           NaN   \n",
      "\n",
      "   Total Liabilities (Period 5)  \n",
      "3                           NaN  \n",
      "4                      992724.0  \n",
      "5                           NaN  \n"
     ]
    }
   ],
   "source": [
    "data1.deriveCol('Total Liabilities',\"Total Current Liabilities\",'+',\"Total Non Current Liabilities (Incl Provisions)\")\n",
    "data1.deriveCol('Total Tangible Assets',\"Total Assets\",\"-\",\"Intangible Assets\" )\n",
    "data1.deriveCol('Net Assets',\"Total Assets\", \"-\", \"Total Current Liabilities\", \"-\",\"Total Non Current Liabilities (Incl Provisions)\" )\n",
    "print(data1._getCols('Total Liabilities')[3:6])"
   ]
  },
  {
   "cell_type": "markdown",
   "metadata": {},
   "source": [
    "## selectDefault"
   ]
  },
  {
   "cell_type": "code",
   "execution_count": 8,
   "metadata": {},
   "outputs": [],
   "source": [
    "data1.selectDefault()"
   ]
  },
  {
   "cell_type": "markdown",
   "metadata": {},
   "source": [
    "## chooseRatio"
   ]
  },
  {
   "cell_type": "code",
   "execution_count": 9,
   "metadata": {},
   "outputs": [
    {
     "ename": "TypeError",
     "evalue": "_reserve_features() missing 1 required positional argument: 'categorical'",
     "output_type": "error",
     "traceback": [
      "\u001b[0;31m---------------------------------------------------------------------------\u001b[0m",
      "\u001b[0;31mTypeError\u001b[0m                                 Traceback (most recent call last)",
      "\u001b[0;32m<ipython-input-9-5867e49b210c>\u001b[0m in \u001b[0;36m<module>\u001b[0;34m\u001b[0m\n\u001b[0;32m----> 1\u001b[0;31m \u001b[0mdata1\u001b[0m\u001b[0;34m.\u001b[0m\u001b[0mchooseRatio\u001b[0m\u001b[0;34m(\u001b[0m\u001b[0;34m'Total Assets'\u001b[0m\u001b[0;34m,\u001b[0m \u001b[0;34m'Total Liabilities'\u001b[0m\u001b[0;34m)\u001b[0m\u001b[0;34m\u001b[0m\u001b[0;34m\u001b[0m\u001b[0m\n\u001b[0m\u001b[1;32m      2\u001b[0m \u001b[0mdata1\u001b[0m\u001b[0;34m.\u001b[0m\u001b[0mchooseRatio\u001b[0m\u001b[0;34m(\u001b[0m\u001b[0;34m'Total Assets'\u001b[0m\u001b[0;34m,\u001b[0m \u001b[0museLog\u001b[0m\u001b[0;34m=\u001b[0m\u001b[0;32mTrue\u001b[0m\u001b[0;34m)\u001b[0m\u001b[0;34m\u001b[0m\u001b[0;34m\u001b[0m\u001b[0m\n\u001b[1;32m      3\u001b[0m \u001b[0mprint\u001b[0m\u001b[0;34m(\u001b[0m\u001b[0mdata1\u001b[0m\u001b[0;34m.\u001b[0m\u001b[0mvaluableRatios\u001b[0m\u001b[0;34m[\u001b[0m\u001b[0;34m:\u001b[0m\u001b[0;36m2\u001b[0m\u001b[0;34m]\u001b[0m\u001b[0;34m)\u001b[0m\u001b[0;34m\u001b[0m\u001b[0;34m\u001b[0m\u001b[0m\n",
      "\u001b[0;32m~/Documents/quant_decompose/FinancialProxyCleanData/dataClass.py\u001b[0m in \u001b[0;36mchooseRatio\u001b[0;34m(self, numeratorName, denominatorName, period, useLog, useBigLog, useDiff, sigLevel, fillingValue, categorical)\u001b[0m\n\u001b[1;32m    352\u001b[0m         \u001b[0;31m#####keep significant variables######\u001b[0m\u001b[0;34m\u001b[0m\u001b[0;34m\u001b[0m\u001b[0;34m\u001b[0m\u001b[0m\n\u001b[1;32m    353\u001b[0m         \u001b[0;32mif\u001b[0m \u001b[0;32mnot\u001b[0m \u001b[0mself\u001b[0m\u001b[0;34m.\u001b[0m\u001b[0mdata\u001b[0m\u001b[0;34m.\u001b[0m\u001b[0mempty\u001b[0m\u001b[0;34m:\u001b[0m\u001b[0;34m\u001b[0m\u001b[0;34m\u001b[0m\u001b[0m\n\u001b[0;32m--> 354\u001b[0;31m             \u001b[0mtmpColumn\u001b[0m \u001b[0;34m=\u001b[0m \u001b[0mself\u001b[0m\u001b[0;34m.\u001b[0m\u001b[0m_reserve_features\u001b[0m\u001b[0;34m(\u001b[0m\u001b[0mratios\u001b[0m\u001b[0;34m,\u001b[0m \u001b[0mvarName\u001b[0m\u001b[0;34m,\u001b[0m \u001b[0mwithoutP\u001b[0m\u001b[0;34m,\u001b[0m \u001b[0mfillingValue\u001b[0m\u001b[0;34m,\u001b[0m \u001b[0mcategorical\u001b[0m\u001b[0;34m)\u001b[0m\u001b[0;34m\u001b[0m\u001b[0;34m\u001b[0m\u001b[0m\n\u001b[0m\u001b[1;32m    355\u001b[0m             \u001b[0;32massert\u001b[0m \u001b[0;32mnot\u001b[0m \u001b[0mset\u001b[0m\u001b[0;34m(\u001b[0m\u001b[0mtmpColumn\u001b[0m\u001b[0;34m.\u001b[0m\u001b[0mcolumns\u001b[0m\u001b[0;34m)\u001b[0m\u001b[0;34m.\u001b[0m\u001b[0missubset\u001b[0m\u001b[0;34m(\u001b[0m\u001b[0mself\u001b[0m\u001b[0;34m.\u001b[0m\u001b[0mvaluableRatios\u001b[0m\u001b[0;34m.\u001b[0m\u001b[0mcolumns\u001b[0m\u001b[0;34m)\u001b[0m\u001b[0;34m,\u001b[0m \u001b[0;34m'This ratio has been chosen, do not choose again.'\u001b[0m\u001b[0;34m\u001b[0m\u001b[0;34m\u001b[0m\u001b[0m\n\u001b[1;32m    356\u001b[0m             \u001b[0mself\u001b[0m\u001b[0;34m.\u001b[0m\u001b[0mvaluableRatios\u001b[0m \u001b[0;34m=\u001b[0m \u001b[0mpd\u001b[0m\u001b[0;34m.\u001b[0m\u001b[0mconcat\u001b[0m\u001b[0;34m(\u001b[0m\u001b[0;34m[\u001b[0m\u001b[0mself\u001b[0m\u001b[0;34m.\u001b[0m\u001b[0mvaluableRatios\u001b[0m\u001b[0;34m,\u001b[0m \u001b[0mtmpColumn\u001b[0m\u001b[0;34m]\u001b[0m\u001b[0;34m,\u001b[0m \u001b[0maxis\u001b[0m\u001b[0;34m=\u001b[0m\u001b[0;36m1\u001b[0m\u001b[0;34m)\u001b[0m\u001b[0;34m\u001b[0m\u001b[0;34m\u001b[0m\u001b[0m\n",
      "\u001b[0;31mTypeError\u001b[0m: _reserve_features() missing 1 required positional argument: 'categorical'"
     ]
    }
   ],
   "source": [
    "data1.chooseRatio('Total Assets', 'Total Liabilities')\n",
    "data1.chooseRatio('Total Assets', useLog=True)\n",
    "print(data1.valuableRatios[:2])"
   ]
  },
  {
   "cell_type": "code",
   "execution_count": null,
   "metadata": {},
   "outputs": [],
   "source": [
    "print(data1.RR[:2])"
   ]
  },
  {
   "cell_type": "markdown",
   "metadata": {},
   "source": [
    "Hence, we can use the **data1.valuableRatios** and **data1.RR** as x and y inputs to train the machine learning model."
   ]
  },
  {
   "cell_type": "markdown",
   "metadata": {},
   "source": [
    "---"
   ]
  },
  {
   "cell_type": "markdown",
   "metadata": {},
   "source": [
    "## Production Mode"
   ]
  },
  {
   "cell_type": "markdown",
   "metadata": {},
   "source": [
    "To keep the consistency of the actions in developing mode and producting mode, there are two ways:\n",
    "- Give the prediction data while we are prepare training data, i.e. give **trainData** and **preData** when initilization.\n",
    "- Save the model and give **preData** later, but it requires special files to record the actions."
   ]
  },
  {
   "cell_type": "markdown",
   "metadata": {},
   "source": [
    "### Case 1: combined way"
   ]
  },
  {
   "cell_type": "code",
   "execution_count": null,
   "metadata": {},
   "outputs": [],
   "source": [
    "data = pd.read_excel(sys.path[0]+\"/TrainingData/Bankrupt_AllSizes_1.xlsx\")\n",
    "pdata = pd.read_excel(sys.path[0]+\"/TrainingData/Company list Data.xlsx\")\n",
    "data2 = RR_dataClass.DataClass(yearsTrain=3, yearsAcross=2, trainData=data, preData=pdata)\n",
    "data2.additionClean(\"Total Assets\",\"Total Current Assets\",\"Total Non Current Assets\")\n",
    "data2.genProxy(isTTA=True)\n",
    "data2.deriveCol('Total Liabilities',\"Total Current Liabilities\",'+',\"Total Non Current Liabilities (Incl Provisions)\")\n",
    "data2.deriveCol('Total Tangible Assets',\"Total Assets\",\"-\",\"Intangible Assets\" )\n",
    "data2.selectDefault()\n",
    "data2.chooseRatio('Total Assets', 'Total Liabilities')\n",
    "data2.chooseRatio('Total Assets', useLog=True)"
   ]
  },
  {
   "cell_type": "code",
   "execution_count": null,
   "metadata": {},
   "outputs": [],
   "source": [
    "print(data2.valuableRatios[:2])"
   ]
  },
  {
   "cell_type": "code",
   "execution_count": null,
   "metadata": {},
   "outputs": [],
   "source": [
    "print(data2.PvaluableRatios[:2])"
   ]
  },
  {
   "cell_type": "markdown",
   "metadata": {},
   "source": [
    "Hence, after training the model, we can input **data2.PvaluableRatios** to the trained model for prediction."
   ]
  },
  {
   "cell_type": "markdown",
   "metadata": {},
   "source": [
    "### Case 2: seperate way"
   ]
  },
  {
   "cell_type": "code",
   "execution_count": null,
   "metadata": {},
   "outputs": [],
   "source": [
    "pdata = pd.read_excel(sys.path[0]+\"/TrainingData/Company list Data.xlsx\")\n",
    "data3 = RR_dataClass.DataClass(yearsTrain=3, preData=pdata)"
   ]
  },
  {
   "cell_type": "markdown",
   "metadata": {},
   "source": [
    "The following functions for cleaning data, derive new columns and select columns should be wrote in a seperate file when we train the model. Hence, we can call the functions exactly the same when we want to prepare data after training models."
   ]
  },
  {
   "cell_type": "code",
   "execution_count": null,
   "metadata": {},
   "outputs": [],
   "source": [
    "data3.additionClean(\"Total Assets\",\"Total Current Assets\",\"Total Non Current Assets\")\n",
    "# ........."
   ]
  },
  {
   "cell_type": "code",
   "execution_count": null,
   "metadata": {},
   "outputs": [],
   "source": [
    "data3.deriveCol('Total Liabilities',\"Total Current Liabilities\",'+',\"Total Non Current Liabilities (Incl Provisions)\")\n",
    "data3.deriveCol('Total Tangible Assets',\"Total Assets\",\"-\",\"Intangible Assets\" )\n",
    "# ........."
   ]
  },
  {
   "cell_type": "code",
   "execution_count": null,
   "metadata": {},
   "outputs": [],
   "source": [
    "data3.chooseRatio('Total Assets', 'Total Liabilities')\n",
    "data3.chooseRatio('Total Assets', useLog=True)\n",
    "# ........."
   ]
  },
  {
   "cell_type": "code",
   "execution_count": null,
   "metadata": {},
   "outputs": [],
   "source": [
    "print(data3.PvaluableRatios[:5])"
   ]
  },
  {
   "cell_type": "markdown",
   "metadata": {},
   "source": [
    "In case two, we cannot do significant test and keep the columns with small p-value automatically. Hence, the weakness of current version is feature selection of developing mode and prodcution mode cannot be decomposed."
   ]
  },
  {
   "cell_type": "markdown",
   "metadata": {},
   "source": [
    "---"
   ]
  }
 ],
 "metadata": {
  "kernelspec": {
   "display_name": "Python 3",
   "language": "python",
   "name": "python3"
  },
  "language_info": {
   "codemirror_mode": {
    "name": "ipython",
    "version": 3
   },
   "file_extension": ".py",
   "mimetype": "text/x-python",
   "name": "python",
   "nbconvert_exporter": "python",
   "pygments_lexer": "ipython3",
   "version": "3.7.1"
  }
 },
 "nbformat": 4,
 "nbformat_minor": 2
}
