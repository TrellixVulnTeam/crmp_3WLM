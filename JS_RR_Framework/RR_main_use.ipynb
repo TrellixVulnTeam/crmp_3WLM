{
 "cells": [
  {
   "cell_type": "markdown",
   "metadata": {},
   "source": [
    "# Import "
   ]
  },
  {
   "cell_type": "code",
   "execution_count": 1,
   "metadata": {},
   "outputs": [],
   "source": [
    "from RRModel import RRModel\n",
    "import sys\n",
    "sys.path.append('/Users/jiazhen/Documents/data-predictive-modelling/models/unifyData')"
   ]
  },
  {
   "cell_type": "markdown",
   "metadata": {},
   "source": [
    "# Arguments"
   ]
  },
  {
   "cell_type": "code",
   "execution_count": 2,
   "metadata": {},
   "outputs": [],
   "source": [
    "class Foo:\n",
    "    pass\n",
    "\n",
    "myInput = Foo()\n",
    "# The above is not important, just follow the format.\n",
    "\n",
    "myInput.output_horizon = 3 # Predict PD 3 years later\n",
    "modelFile =\"model0\" # Use train/model0 file"
   ]
  },
  {
   "cell_type": "markdown",
   "metadata": {},
   "source": [
    "# Initialization"
   ]
  },
  {
   "cell_type": "code",
   "execution_count": 3,
   "metadata": {},
   "outputs": [],
   "source": [
    "model = RRModel(myInput, modelFile=modelFile)"
   ]
  },
  {
   "cell_type": "markdown",
   "metadata": {},
   "source": [
    "# Give Inputs and Use"
   ]
  },
  {
   "cell_type": "code",
   "execution_count": 4,
   "metadata": {},
   "outputs": [
    {
     "name": "stderr",
     "output_type": "stream",
     "text": [
      "/Users/jiazhen/Documents/quant_decompose/FinancialProxyCleanData/dataClass.py:215: RuntimeWarning: invalid value encountered in greater\n",
      "  PmyLeft = PmyLeft.where((PmyLeft.values > PrightSum), PrightSum).fillna(PmyLeft)  # Take tha max of two methods\n",
      "/Users/jiazhen/Documents/quant_decompose/FinancialProxyCleanData/dataClass.py:183: FutureWarning: Sorting because non-concatenation axis is not aligned. A future version\n",
      "of pandas will change to not sort by default.\n",
      "\n",
      "To accept the future behavior, pass 'sort=False'.\n",
      "\n",
      "To retain the current behavior and silence the warning, pass 'sort=True'.\n",
      "\n",
      "  tmpColumn = pd.concat([tmpColumn, myRatio], axis=1)\n"
     ]
    },
    {
     "name": "stdout",
     "output_type": "stream",
     "text": [
      "{'preRRdists': [[39.8449894499454, 15.73638221552332, 13.811000663353685, 11.95585100979965, 10.09365490394548, 8.558121757432469], [39.32386406485745, 15.503747906138992, 14.055656881244802, 11.830198388040023, 9.984349773013609, 9.302182986705118]], 'preRRs': [8.333333333333332, 8.333333333333332], 'RRintervals': [8.333333333333334, 25.0, 41.66666666666667, 58.333333333333336, 75.0, 91.66666666666667], 'numpreRRs': [1, 2]}\n"
     ]
    },
    {
     "data": {
      "text/plain": [
       "(<MachineLearningBasedModels.ML_models.CalibratedRandomForestC at 0x12148ce10>,\n",
       " <FinancialProxyCleanData.RR_dataClass.DataClass at 0x11f7915c0>)"
      ]
     },
     "execution_count": 4,
     "metadata": {},
     "output_type": "execute_result"
    }
   ],
   "source": [
    "model.genPdata(*[888.0,888,88.08,888,8,888,888,8888,8888888,8,8,8,888,88,8,888,8,888,8,8.9,8,8,8])\n",
    "model.genPdata(*[777,777,777,877.09,77,887,7888,78888,88877778888.09,78,8,78,8788,878,87,8788,78,8878,87,877,78,87,87])\n",
    "model.use()"
   ]
  }
 ],
 "metadata": {
  "kernelspec": {
   "display_name": "Python 3",
   "language": "python",
   "name": "python3"
  },
  "language_info": {
   "codemirror_mode": {
    "name": "ipython",
    "version": 3
   },
   "file_extension": ".py",
   "mimetype": "text/x-python",
   "name": "python",
   "nbconvert_exporter": "python",
   "pygments_lexer": "ipython3",
   "version": "3.7.1"
  }
 },
 "nbformat": 4,
 "nbformat_minor": 2
}
